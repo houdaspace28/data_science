{
 "cells": [
  {
   "cell_type": "markdown",
   "metadata": {},
   "source": [
    "Numpy practice"
   ]
  },
  {
   "cell_type": "code",
   "execution_count": 16,
   "metadata": {},
   "outputs": [
    {
     "data": {
      "text/plain": [
       "array([  2,   4,   6,   8,  10,  12,  14,  16,  18,  20,  22,  24,  26,\n",
       "        28,  30,  32,  34,  36,  38,  40,  42,  44,  46,  48,  50,  52,\n",
       "        54,  56,  58,  60,  62,  64,  66,  68,  70,  72,  74,  76,  78,\n",
       "        80,  82,  84,  86,  88,  90,  92,  94,  96,  98, 100])"
      ]
     },
     "execution_count": 16,
     "metadata": {},
     "output_type": "execute_result"
    }
   ],
   "source": [
    "import numpy as np\n",
    "\n",
    "array_one = np.arange(1,101)\n",
    "\n",
    "matrix_10 = array_one.reshape(10,10)\n",
    "matrix_10\n",
    "\n",
    "array_mean = array_one.mean()\n",
    "array_mean\n",
    "\n",
    "array_median = np.median(array_one)\n",
    "array_median\n",
    "\n",
    "array_variance = array_one.var()\n",
    "array_variance\n",
    "\n",
    "even_numbers = array_one[array_one % 2 == 0]\n",
    "even_numbers\n"
   ]
  },
  {
   "cell_type": "code",
   "execution_count": 24,
   "metadata": {},
   "outputs": [
    {
     "data": {
      "text/plain": [
       "1.0197550024605204"
      ]
     },
     "execution_count": 24,
     "metadata": {},
     "output_type": "execute_result"
    }
   ],
   "source": [
    "matrix_5 = np.random.rand(5,5)\n",
    "matrix_5\n",
    "\n",
    "#The normal function generates random numbers that follow a \"normal distribution\"\n",
    "normal_dist = np.random.normal(loc=0, scale=1, size=1000)\n",
    "normal_dist\n",
    "dist_mean=normal_dist.mean()\n",
    "dist_variance=normal_dist.var()\n",
    "dist_std=normal_dist.std()\n",
    "dist_std"
   ]
  },
  {
   "cell_type": "code",
   "execution_count": 38,
   "metadata": {},
   "outputs": [
    {
     "data": {
      "text/plain": [
       "0.411"
      ]
     },
     "execution_count": 38,
     "metadata": {},
     "output_type": "execute_result"
    }
   ],
   "source": [
    "dice_one = np.random.randint(1,7,size=1000)\n",
    "dice_two = np.random.randint(1,7,size=1000)\n",
    "\n",
    "sum_dice = dice_one + dice_two\n",
    "\n",
    "probability = np.sum(sum_dice > 7) / len(sum_dice)\n",
    "probability\n"
   ]
  },
  {
   "cell_type": "code",
   "execution_count": 42,
   "metadata": {},
   "outputs": [
    {
     "name": "stdout",
     "output_type": "stream",
     "text": [
      "[[5 3 1]\n",
      " [3 6 3]\n",
      " [5 1 5]]\n",
      "[[4 3 1]\n",
      " [3 1 6]\n",
      " [5 4 4]]\n",
      "[[34 22 27]\n",
      " [45 27 51]\n",
      " [48 36 31]]\n",
      "107.99999999999993\n",
      "[[ 2.50000000e-01 -1.29629630e-01  2.77777778e-02]\n",
      " [-2.64338815e-17  1.85185185e-01 -1.11111111e-01]\n",
      " [-2.50000000e-01  9.25925926e-02  1.94444444e-01]]\n"
     ]
    }
   ],
   "source": [
    "matrix_one = np.random.randint(1, 7, size=(3,3))\n",
    "matrix_two = np.random.randint(1, 7, size=(3,3))\n",
    "print(matrix_one)\n",
    "print(matrix_two)\n",
    "product = np.dot(matrix_one, matrix_two)\n",
    "print(product)\n",
    "\n",
    "deter_matrix = np.linalg.det(matrix_one)\n",
    "inv_matrix = np.linalg.inv(matrix_one)\n",
    "print(deter_matrix)\n",
    "print(inv_matrix)\n"
   ]
  }
 ],
 "metadata": {
  "kernelspec": {
   "display_name": "Python 3",
   "language": "python",
   "name": "python3"
  },
  "language_info": {
   "codemirror_mode": {
    "name": "ipython",
    "version": 3
   },
   "file_extension": ".py",
   "mimetype": "text/x-python",
   "name": "python",
   "nbconvert_exporter": "python",
   "pygments_lexer": "ipython3",
   "version": "3.12.0"
  }
 },
 "nbformat": 4,
 "nbformat_minor": 2
}
